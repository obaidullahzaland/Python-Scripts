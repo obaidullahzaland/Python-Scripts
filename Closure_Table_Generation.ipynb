{
 "cells": [
  {
   "cell_type": "markdown",
   "metadata": {},
   "source": [
    "# What is a Closure Table?\n",
    "#### https://technobytz.com/closure_table_store_hierarchical_data.html"
   ]
  },
  {
   "cell_type": "code",
   "execution_count": null,
   "metadata": {},
   "outputs": [],
   "source": [
    "import psycopg2\n",
    "import pandas as pd"
   ]
  },
  {
   "cell_type": "markdown",
   "metadata": {},
   "source": [
    "# Connecting to the PostgreSQL Database "
   ]
  },
  {
   "cell_type": "code",
   "execution_count": 27,
   "metadata": {},
   "outputs": [
    {
     "name": "stdout",
     "output_type": "stream",
     "text": [
      "Connection established to:  ('PostgreSQL 13.3, compiled by Visual C++ build 1914, 64-bit',)\n"
     ]
    }
   ],
   "source": [
    "def read_data_from_database():\n",
    "    db_name = 'YOUR DB NAME'\n",
    "    user_name = 'YOUR USER NAME'\n",
    "    password = 'YOUR PASSWORD'\n",
    "\n",
    "    #establishing the connection\n",
    "    conn = psycopg2.connect(\n",
    "       database=db_name, user=user_name, password=password, host='127.0.0.1', port= '5432'\n",
    "    )\n",
    "    #Creating a cursor object using the cursor() method\n",
    "    cursor = conn.cursor()\n",
    "\n",
    "    #Executing an MYSQL function using the execute() method\n",
    "    cursor.execute(\"select version()\")\n",
    "\n",
    "    # Fetch a single row using fetchone() method.\n",
    "    data = cursor.fetchone()\n",
    "    print(\"Connection established to: \",data)\n",
    "\n",
    "    #Retrieving data\n",
    "    #DEPARTMENT IS THE TABLE NAME IN THIS CASE AND WE ARE ONLY RETREIVING 3 COLUMNS, NAMELY id, parent_id, and name_en\n",
    "    cursor.execute('''SELECT id,parent_id,name_en from DEPARTMENT''')\n",
    "\n",
    "    #Fetching 1st row from the table\n",
    "    result = cursor.fetchall();\n",
    "    #closing the connection\n",
    "    conn.close()\n",
    "    return result"
   ]
  },
  {
   "cell_type": "markdown",
   "metadata": {},
   "source": [
    "# Converting the Results to Pandas DataFrame"
   ]
  },
  {
   "cell_type": "code",
   "execution_count": 28,
   "metadata": {},
   "outputs": [],
   "source": [
    "results = read_data_from_database()\n",
    "df = pd.DataFrame(result, columns = [\"id\", \"parent_id\", \"name\"])"
   ]
  },
  {
   "cell_type": "markdown",
   "metadata": {},
   "source": [
    "# Generating the Closure Table"
   ]
  },
  {
   "cell_type": "code",
   "execution_count": 39,
   "metadata": {},
   "outputs": [],
   "source": [
    "nodes = []\n",
    "for i, record in df.iterrows():\n",
    "    nodes.append((record.id, record.id))\n",
    "    key = record.parent_id\n",
    "    try:\n",
    "        key = int(key)\n",
    "    except:\n",
    "        key = None\n",
    "    while key is not None:\n",
    "        nodes.append((record.id, key))\n",
    "        key = df[df['id'] == key]['parent_id']\n",
    "        key = float(key)\n",
    "        try:\n",
    "            key = int(key)\n",
    "        except:\n",
    "            key = None\n",
    "\n",
    "        \n",
    "    \n",
    "        \n",
    "        "
   ]
  },
  {
   "cell_type": "code",
   "execution_count": 42,
   "metadata": {},
   "outputs": [
    {
     "data": {
      "text/html": [
       "<div>\n",
       "<style scoped>\n",
       "    .dataframe tbody tr th:only-of-type {\n",
       "        vertical-align: middle;\n",
       "    }\n",
       "\n",
       "    .dataframe tbody tr th {\n",
       "        vertical-align: top;\n",
       "    }\n",
       "\n",
       "    .dataframe thead th {\n",
       "        text-align: right;\n",
       "    }\n",
       "</style>\n",
       "<table border=\"1\" class=\"dataframe\">\n",
       "  <thead>\n",
       "    <tr style=\"text-align: right;\">\n",
       "      <th></th>\n",
       "      <th>Child ID</th>\n",
       "      <th>Parent ID</th>\n",
       "    </tr>\n",
       "  </thead>\n",
       "  <tbody>\n",
       "    <tr>\n",
       "      <th>0</th>\n",
       "      <td>1</td>\n",
       "      <td>1</td>\n",
       "    </tr>\n",
       "    <tr>\n",
       "      <th>1</th>\n",
       "      <td>2</td>\n",
       "      <td>2</td>\n",
       "    </tr>\n",
       "    <tr>\n",
       "      <th>2</th>\n",
       "      <td>2</td>\n",
       "      <td>1</td>\n",
       "    </tr>\n",
       "    <tr>\n",
       "      <th>3</th>\n",
       "      <td>3</td>\n",
       "      <td>3</td>\n",
       "    </tr>\n",
       "    <tr>\n",
       "      <th>4</th>\n",
       "      <td>3</td>\n",
       "      <td>1</td>\n",
       "    </tr>\n",
       "    <tr>\n",
       "      <th>...</th>\n",
       "      <td>...</td>\n",
       "      <td>...</td>\n",
       "    </tr>\n",
       "    <tr>\n",
       "      <th>116</th>\n",
       "      <td>60</td>\n",
       "      <td>1</td>\n",
       "    </tr>\n",
       "    <tr>\n",
       "      <th>117</th>\n",
       "      <td>61</td>\n",
       "      <td>61</td>\n",
       "    </tr>\n",
       "    <tr>\n",
       "      <th>118</th>\n",
       "      <td>61</td>\n",
       "      <td>1</td>\n",
       "    </tr>\n",
       "    <tr>\n",
       "      <th>119</th>\n",
       "      <td>62</td>\n",
       "      <td>62</td>\n",
       "    </tr>\n",
       "    <tr>\n",
       "      <th>120</th>\n",
       "      <td>62</td>\n",
       "      <td>1</td>\n",
       "    </tr>\n",
       "  </tbody>\n",
       "</table>\n",
       "<p>121 rows × 2 columns</p>\n",
       "</div>"
      ],
      "text/plain": [
       "     Child ID  Parent ID\n",
       "0           1          1\n",
       "1           2          2\n",
       "2           2          1\n",
       "3           3          3\n",
       "4           3          1\n",
       "..        ...        ...\n",
       "116        60          1\n",
       "117        61         61\n",
       "118        61          1\n",
       "119        62         62\n",
       "120        62          1\n",
       "\n",
       "[121 rows x 2 columns]"
      ]
     },
     "execution_count": 42,
     "metadata": {},
     "output_type": "execute_result"
    }
   ],
   "source": [
    "table = pd.DataFrame(nodes, columns = [\"Child ID\", \"Parent ID\"])\n",
    "table"
   ]
  }
 ],
 "metadata": {
  "kernelspec": {
   "display_name": "Python 3",
   "language": "python",
   "name": "python3"
  },
  "language_info": {
   "codemirror_mode": {
    "name": "ipython",
    "version": 3
   },
   "file_extension": ".py",
   "mimetype": "text/x-python",
   "name": "python",
   "nbconvert_exporter": "python",
   "pygments_lexer": "ipython3",
   "version": "3.8.3"
  }
 },
 "nbformat": 4,
 "nbformat_minor": 4
}
